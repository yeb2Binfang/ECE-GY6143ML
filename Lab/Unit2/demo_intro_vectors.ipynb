{
  "nbformat": 4,
  "nbformat_minor": 0,
  "metadata": {
    "anaconda-cloud": {},
    "kernelspec": {
      "display_name": "Python 3",
      "language": "python",
      "name": "python3"
    },
    "language_info": {
      "codemirror_mode": {
        "name": "ipython",
        "version": 3
      },
      "file_extension": ".py",
      "mimetype": "text/x-python",
      "name": "python",
      "nbconvert_exporter": "python",
      "pygments_lexer": "ipython3",
      "version": "3.7.4"
    },
    "colab": {
      "name": "demo_intro_vectors.ipynb",
      "provenance": [],
      "include_colab_link": true
    }
  },
  "cells": [
    {
      "cell_type": "markdown",
      "metadata": {
        "id": "view-in-github",
        "colab_type": "text"
      },
      "source": [
        "<a href=\"https://colab.research.google.com/github/yeb2Binfang/ECE-GY6143ML/blob/main/Lab/Unit2/demo_intro_vectors.ipynb\" target=\"_parent\"><img src=\"https://colab.research.google.com/assets/colab-badge.svg\" alt=\"Open In Colab\"/></a>"
      ]
    },
    {
      "cell_type": "markdown",
      "metadata": {
        "id": "kFy4xho8xO_b"
      },
      "source": [
        "# Getting Started with Numpy Vectors\n",
        "\n",
        "The `numpy` package has a number of powerful and fast tools for manipulating vectors.  In this demo, we will illustrate some of the features of the package that will be used throughout the class.  A more complete summary of `python` and `numpy` can be found at:\n",
        "\n",
        "http://cs231n.github.io/python-numpy-tutorial/\n",
        "\n",
        "For this tutorial, we start by importing the package."
      ]
    },
    {
      "cell_type": "code",
      "metadata": {
        "id": "z3dIXj3vxO_c"
      },
      "source": [
        "import numpy as np"
      ],
      "execution_count": null,
      "outputs": []
    },
    {
      "cell_type": "code",
      "metadata": {
        "id": "fAfB-h-92VPS"
      },
      "source": [
        ""
      ],
      "execution_count": null,
      "outputs": []
    },
    {
      "cell_type": "markdown",
      "metadata": {
        "id": "dn_3AoAtxO_k"
      },
      "source": [
        "## Creating vectors\n",
        "We can create vectors a number of ways.  We can manually create a vector by specifying the elements from a list.  Note that, unlike MATLAB, there is no difference between a row and column vector.  Also, you have to call the `print` command to print the object."
      ]
    },
    {
      "cell_type": "code",
      "metadata": {
        "id": "e4Md1QEaxO_l",
        "colab": {
          "base_uri": "https://localhost:8080/",
          "height": 34
        },
        "outputId": "7f507a14-6feb-48f3-b1ce-c27ffbb3ec15"
      },
      "source": [
        "x = np.array([1,2,4])\n",
        "print(x)"
      ],
      "execution_count": null,
      "outputs": [
        {
          "output_type": "stream",
          "text": [
            "[1 2 4]\n"
          ],
          "name": "stdout"
        }
      ]
    },
    {
      "cell_type": "markdown",
      "metadata": {
        "id": "M9zX02SZxO_t"
      },
      "source": [
        "You can also set through a range of numbers "
      ]
    },
    {
      "cell_type": "code",
      "metadata": {
        "id": "lnMKsNGLxO_u",
        "outputId": "70a3475e-1718-44bf-89f6-15a1483bd4b8"
      },
      "source": [
        "x1 = np.arange(10)   # numbers from 0 to 9 (note 10 is NOT included)\n",
        "x2 = np.arange(2,7)  # numbers from 2 to 6\n",
        "print(\"x1 = \"+str(x1))\n",
        "print(\"x2 = \"+str(x2))"
      ],
      "execution_count": null,
      "outputs": [
        {
          "output_type": "stream",
          "text": [
            "x1 = [0 1 2 3 4 5 6 7 8 9]\n",
            "x2 = [2 3 4 5 6]\n"
          ],
          "name": "stdout"
        }
      ]
    },
    {
      "cell_type": "markdown",
      "metadata": {
        "id": "tZtlUZp2xO_1"
      },
      "source": [
        "You can also use a third `step` argument.  The step does not need to be positive or integer."
      ]
    },
    {
      "cell_type": "code",
      "metadata": {
        "id": "zPN8yft0xO_2",
        "outputId": "f8312cce-9559-4ed4-d5ae-325c45fc6d78"
      },
      "source": [
        "x1 = np.arange(10,50,5)   # Increments of 5.  Note this ends on 45, not 50\n",
        "print(x1)\n",
        "\n",
        "# Increments of 2.5.  To ensure it includes the value 10, we make the endpoint slightly >10.\n",
        "step = 2.5\n",
        "x2 = np.arange(0,10+step/2,step)\n",
        "print(x2)"
      ],
      "execution_count": null,
      "outputs": [
        {
          "output_type": "stream",
          "text": [
            "[10 15 20 25 30 35 40 45]\n",
            "[ 0.   2.5  5.   7.5 10. ]\n"
          ],
          "name": "stdout"
        }
      ]
    },
    {
      "cell_type": "markdown",
      "metadata": {
        "id": "bcd-uIlHxO_7"
      },
      "source": [
        "Most operations can be vectorized meaning that the operation is applied to each component."
      ]
    },
    {
      "cell_type": "code",
      "metadata": {
        "id": "j9uaxTgBxO_7",
        "outputId": "71fc32ce-ea43-434f-d03d-a6399750ea1e"
      },
      "source": [
        "x = np.array(range(2,6))\n",
        "y = x**2\n",
        "print(\"x = \" + str(x))\n",
        "print(\"y = \" + str(y))"
      ],
      "execution_count": null,
      "outputs": [
        {
          "output_type": "stream",
          "text": [
            "x = [2 3 4 5]\n",
            "y = [ 4  9 16 25]\n"
          ],
          "name": "stdout"
        }
      ]
    },
    {
      "cell_type": "markdown",
      "metadata": {
        "id": "cxMZqxaHxPAA"
      },
      "source": [
        "**Exercise**  Write code to create the following vectors.  Use the `range` function along with basic mathematical operations.  For the case of `z2` you may consider using the `np.abs()` function.\n",
        "\n",
        "    z1 = [2,4,6,8,10,...,20]  \n",
        "    z2 = [50,40,30,...,10,0,10,20,...,50]\n",
        "    "
      ]
    },
    {
      "cell_type": "code",
      "metadata": {
        "id": "vfUJRGLZxPAB",
        "outputId": "cd3a395b-6f42-4ca0-924c-d41eb2b55670"
      },
      "source": [
        "z1 = np.arange(2,21,2)\n",
        "print(\"z1 = \" + str(z1))\n",
        "\n",
        "z1 = np.arange(-50,51,10)\n",
        "print(\"z2 = \" + str(np.abs(z1)))\n"
      ],
      "execution_count": null,
      "outputs": [
        {
          "output_type": "stream",
          "text": [
            "z1 = [ 2  4  6  8 10 12 14 16 18 20]\n",
            "z2 = [50 40 30 20 10  0 10 20 30 40 50]\n"
          ],
          "name": "stdout"
        }
      ]
    },
    {
      "cell_type": "markdown",
      "metadata": {
        "id": "DXSL0ekOxPAH"
      },
      "source": [
        "In the examples in the labs, we will load the vectors from data files.  We will show how to do this later using the `pandas` package."
      ]
    },
    {
      "cell_type": "markdown",
      "metadata": {
        "id": "xEvyJW7NxPAH"
      },
      "source": [
        "## Plotting vectors\n",
        "The `matplotlib` package has excellent routines for plotting data and uses a very similar interface as MATLAB.  To load the package use the following commands.  The second line `%matplotlib inline` is only used when running python in `jupyter notebook.`"
      ]
    },
    {
      "cell_type": "code",
      "metadata": {
        "id": "nsuSdCCCxPAI"
      },
      "source": [
        "import matplotlib.pyplot as plt\n",
        "%matplotlib inline"
      ],
      "execution_count": null,
      "outputs": []
    },
    {
      "cell_type": "markdown",
      "metadata": {
        "id": "82nULJMMxPAM"
      },
      "source": [
        "A simple illustration to plot $\\sin(2\\pi(3)t)$ vs. $t$ for $t \\in [0,2]$."
      ]
    },
    {
      "cell_type": "code",
      "metadata": {
        "id": "c3JYz9_hxPAM",
        "outputId": "ff63d442-eabf-439d-8f74-430ac8707cd7"
      },
      "source": [
        "f = 3\n",
        "t = np.linspace(0,2,100)  # Similar to the MATLAB linspace command\n",
        "y = np.sin(2*np.pi*f*t)\n",
        "\n",
        "plt.plot(t,y)\n",
        "plt.grid()\n",
        "plt.xlabel('t', fontsize=16)\n",
        "plt.ylabel('sin(2pi ft)', fontsize=16)"
      ],
      "execution_count": null,
      "outputs": [
        {
          "output_type": "execute_result",
          "data": {
            "text/plain": [
              "Text(0, 0.5, 'sin(2pi ft)')"
            ]
          },
          "metadata": {
            "tags": []
          },
          "execution_count": 17
        },
        {
          "output_type": "display_data",
          "data": {
            "image/png": "[encoded data removed]",
            "text/plain": [
              "<Figure size 432x288 with 1 Axes>"
            ]
          },
          "metadata": {
            "tags": [],
            "needs_background": "light"
          }
        }
      ]
    },
    {
      "cell_type": "markdown",
      "metadata": {
        "id": "SanYgwLUxPAR"
      },
      "source": [
        "You can also stack plots."
      ]
    },
    {
      "cell_type": "code",
      "metadata": {
        "id": "wJ47AkE4xPAS",
        "outputId": "ed970d90-7298-4bd7-d3e1-a0fcc6ba3d93"
      },
      "source": [
        "ysq = y**2\n",
        "plt.plot(t,y)\n",
        "plt.plot(t,ysq)\n",
        "plt.grid()\n",
        "plt.xlabel('t')"
      ],
      "execution_count": null,
      "outputs": [
        {
          "output_type": "execute_result",
          "data": {
            "text/plain": [
              "Text(0.5, 0, 't')"
            ]
          },
          "metadata": {
            "tags": []
          },
          "execution_count": 18
        },
        {
          "output_type": "display_data",
          "data": {
            "image/png": "[encoded data removed]",
            "text/plain": [
              "<Figure size 432x288 with 1 Axes>"
            ]
          },
          "metadata": {
            "tags": [],
            "needs_background": "light"
          }
        }
      ]
    },
    {
      "cell_type": "markdown",
      "metadata": {
        "id": "MFXdjgTCxPAW"
      },
      "source": [
        "**Exercise** Create a plot of $y = e^{-2x}$ vs. $x$ for $x \\in [-1,3]$.  Use 200 points in the values of $x$."
      ]
    },
    {
      "cell_type": "code",
      "metadata": {
        "id": "DgAuM1l8xPAX",
        "outputId": "83a7d292-4a0a-414e-e173-72ee26a1e10f"
      },
      "source": [
        "x_axis = np.linspace(-1,3,200)\n",
        "y1 = np.exp(-2*x_axis*np.e)\n",
        "\n",
        "plt.plot(x_axis, y1)\n",
        "plt.grid()"
      ],
      "execution_count": null,
      "outputs": [
        {
          "output_type": "display_data",
          "data": {
            "image/png": "[encoded data removed]",
            "text/plain": [
              "<Figure size 432x288 with 1 Axes>"
            ]
          },
          "metadata": {
            "tags": [],
            "needs_background": "light"
          }
        }
      ]
    },
    {
      "cell_type": "markdown",
      "metadata": {
        "id": "YhsgRPmLxPAb"
      },
      "source": [
        "## Indexing and Slicing Vectors\n",
        "\n",
        "You can access individual elements by `x[i]`.  Unlike MATLAB, the indexing starts at 0!  "
      ]
    },
    {
      "cell_type": "code",
      "metadata": {
        "id": "y0rTjBpCxPAc",
        "outputId": "07309ac1-6005-4b85-8e42-ad8d96f5e2a7"
      },
      "source": [
        "x = np.array([2,4,6,8,10])\n",
        "print(\"Element 0 is \"+str(x[0]))\n",
        "print(\"Element 3 is \"+str(x[3])) "
      ],
      "execution_count": null,
      "outputs": [
        {
          "output_type": "stream",
          "text": [
            "Element 0 is 2\n",
            "Element 3 is 8\n"
          ],
          "name": "stdout"
        }
      ]
    },
    {
      "cell_type": "markdown",
      "metadata": {
        "id": "6f0pXLEExPAg"
      },
      "source": [
        "Similar to MATLAB, you can obtain *slices* from `numpy` vectors, meaning subsets of components.  Use the `:` operator as follows."
      ]
    },
    {
      "cell_type": "code",
      "metadata": {
        "id": "9_4IZOqcxPAh",
        "outputId": "7206753d-0b4b-4fea-e99c-0b9cce5f691c"
      },
      "source": [
        "x = np.random.rand(10)  # 10 random elements from 0 to 1\n",
        "x1 = x[2:5]             # Elements 2,3,4  (Note 5 is NOT included)\n",
        "x2 = x[:4]              # Elements 0,1,2,3  (Starts at 0, element 4 NOT included)\n",
        "x3 = x[7:]              # Elements 7,8,9 (Element 7 IS included.  Ends at 9 NOT 10)\n",
        "xlast = x[-1]           # The last element\n",
        "\n",
        "print(\"x=      \"+np.array_str(x,precision=3))\n",
        "print(\"x[2:5]= \"+np.array_str(x1,precision=3))\n",
        "print(\"x[:4]=  \"+np.array_str(x2,precision=3))\n",
        "print(\"x[7:]=  \"+np.array_str(x3,precision=3))\n",
        "print(\"xlast=  {0:5.3f}\".format(xlast))\n"
      ],
      "execution_count": null,
      "outputs": [
        {
          "output_type": "stream",
          "text": [
            "x=      [ 0.058  0.073  0.522  0.379  0.157  0.319  0.802  0.72   0.484  0.448]\n",
            "x[2:5]= [ 0.522  0.379  0.157]\n",
            "x[:4]=  [ 0.058  0.073  0.522  0.379]\n",
            "x[7:]=  [ 0.72   0.484  0.448]\n",
            "xlast=  0.448\n"
          ],
          "name": "stdout"
        }
      ]
    },
    {
      "cell_type": "markdown",
      "metadata": {
        "id": "MnsymgDexPAl"
      },
      "source": [
        "** Exercise **  Suppose we construct a vector `x` by:\n",
        "\n",
        "    x = np.array(range(1,5))**2\n",
        "    \n",
        "What are the vectors created by the following slicing operations:\n",
        "\n",
        "    x1 = x[:3]\n",
        "    x2 = x[3:]\n",
        "    x3 = x[1:4]"
      ]
    },
    {
      "cell_type": "code",
      "metadata": {
        "id": "aLz6L3F3xPAl"
      },
      "source": [
        "x = np.array(range(1,5))**2"
      ],
      "execution_count": null,
      "outputs": []
    },
    {
      "cell_type": "code",
      "metadata": {
        "id": "gxCKzHxExPAq",
        "outputId": "3e561b41-10e9-4066-fa82-cbff57defbbc"
      },
      "source": [
        "x1 = x[:3]\n",
        "x2 = x[3:]\n",
        "x3 = x[1:10]\n",
        "print(x1,x2,x3)"
      ],
      "execution_count": null,
      "outputs": [
        {
          "output_type": "stream",
          "text": [
            "[1 4 9] [16] [ 4  9 16]\n"
          ],
          "name": "stdout"
        }
      ]
    },
    {
      "cell_type": "code",
      "metadata": {
        "id": "U_ailfZHxPAu",
        "outputId": "b25ede75-3690-4118-8d8a-55e1b90c00d0"
      },
      "source": [
        ""
      ],
      "execution_count": null,
      "outputs": [
        {
          "output_type": "stream",
          "text": [
            "1\n"
          ],
          "name": "stdout"
        }
      ]
    },
    {
      "cell_type": "code",
      "metadata": {
        "id": "xscfDowuxPAz"
      },
      "source": [
        ""
      ],
      "execution_count": null,
      "outputs": []
    }
  ]
}