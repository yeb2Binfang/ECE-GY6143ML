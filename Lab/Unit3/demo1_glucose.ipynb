{
  "nbformat": 4,
  "nbformat_minor": 0,
  "metadata": {
    "anaconda-cloud": {},
    "kernelspec": {
      "display_name": "Python 3",
      "language": "python",
      "name": "python3"
    },
    "language_info": {
      "codemirror_mode": {
        "name": "ipython",
        "version": 3
      },
      "file_extension": ".py",
      "mimetype": "text/x-python",
      "name": "python",
      "nbconvert_exporter": "python",
      "pygments_lexer": "ipython3",
      "version": "3.7.4"
    },
    "colab": {
      "name": "demo1_glucose.ipynb",
      "provenance": [],
      "collapsed_sections": [],
      "include_colab_link": true
    }
  },
  "cells": [
    {
      "cell_type": "markdown",
      "metadata": {
        "id": "view-in-github",
        "colab_type": "text"
      },
      "source": [
        "<a href=\"https://colab.research.google.com/github/yeb2Binfang/ECE-GY6143ML/blob/main/Lab/Unit3/demo1_glucose.ipynb\" target=\"_parent\"><img src=\"https://colab.research.google.com/assets/colab-badge.svg\" alt=\"Open In Colab\"/></a>"
      ]
    },
    {
      "cell_type": "markdown",
      "metadata": {
        "id": "2ssHrWMFZYne"
      },
      "source": [
        "# Demo:  Predicting Glucose Levels using Mulitple Linear Regression"
      ]
    },
    {
      "cell_type": "markdown",
      "metadata": {
        "id": "Kv4bMmp5ZYni"
      },
      "source": [
        "In this demo, you will learn how to:\n",
        "* Fit multiple linear regression models using python's `sklearn` pachage.  \n",
        "* Split data into training and test.\n",
        "* Manipulate and visualize multivariable arrays.\n",
        "\n",
        "We first load the packages as usual."
      ]
    },
    {
      "cell_type": "code",
      "metadata": {
        "id": "IWR2iu5FZYnk"
      },
      "source": [
        "import numpy as np\n",
        "import matplotlib\n",
        "import matplotlib.pyplot as plt\n",
        "%matplotlib inline"
      ],
      "execution_count": null,
      "outputs": []
    },
    {
      "cell_type": "markdown",
      "metadata": {
        "id": "NwucDrt1ZYny"
      },
      "source": [
        "## Diabetes Data Example\n",
        "To illustrate the concepts, we load the well-known diabetes data set.  This dataset is included in the `sklearn.datasets` module and can be loaded as follows."
      ]
    },
    {
      "cell_type": "code",
      "metadata": {
        "id": "GfYh5YPeZYn1",
        "colab": {
          "base_uri": "https://localhost:8080/",
          "height": 202
        },
        "outputId": "efe6d95b-1227-4255-fad9-83fde20d7d2c"
      },
      "source": [
        "from sklearn import datasets, linear_model\n",
        "\n",
        "# Load the diabetes dataset\n",
        "diabetes = datasets.load_diabetes()\n",
        "X = diabetes.data\n",
        "y = diabetes.target\n"
      ],
      "execution_count": null,
      "outputs": [
        {
          "output_type": "stream",
          "text": [
            "[ 0.03807591 -0.00188202  0.08529891 -0.08906294  0.00538306]\n",
            "[[ 0.03807591  0.05068012  0.06169621  0.02187235 -0.0442235  -0.03482076\n",
            "  -0.04340085 -0.00259226  0.01990842 -0.01764613]\n",
            " [-0.00188202 -0.04464164 -0.05147406 -0.02632783 -0.00844872 -0.01916334\n",
            "   0.07441156 -0.03949338 -0.06832974 -0.09220405]\n",
            " [ 0.08529891  0.05068012  0.04445121 -0.00567061 -0.04559945 -0.03419447\n",
            "  -0.03235593 -0.00259226  0.00286377 -0.02593034]\n",
            " [-0.08906294 -0.04464164 -0.01159501 -0.03665645  0.01219057  0.02499059\n",
            "  -0.03603757  0.03430886  0.02269202 -0.00936191]\n",
            " [ 0.00538306 -0.04464164 -0.03638469  0.02187235  0.00393485  0.01559614\n",
            "   0.00814208 -0.00259226 -0.03199144 -0.04664087]]\n"
          ],
          "name": "stdout"
        }
      ]
    },
    {
      "cell_type": "markdown",
      "metadata": {
        "id": "1G0ed7OFZYoC"
      },
      "source": [
        "We can print a description of the data as follows:"
      ]
    },
    {
      "cell_type": "code",
      "metadata": {
        "id": "jfONPIx4ZYoE",
        "colab": {
          "base_uri": "https://localhost:8080/",
          "height": 655
        },
        "outputId": "2dfc721c-15dc-4030-82c2-ed077c39d96a"
      },
      "source": [
        "print(diabetes.DESCR)"
      ],
      "execution_count": null,
      "outputs": [
        {
          "output_type": "stream",
          "text": [
            ".. _diabetes_dataset:\n",
            "\n",
            "Diabetes dataset\n",
            "----------------\n",
            "\n",
            "Ten baseline variables, age, sex, body mass index, average blood\n",
            "pressure, and six blood serum measurements were obtained for each of n =\n",
            "442 diabetes patients, as well as the response of interest, a\n",
            "quantitative measure of disease progression one year after baseline.\n",
            "\n",
            "**Data Set Characteristics:**\n",
            "\n",
            "  :Number of Instances: 442\n",
            "\n",
            "  :Number of Attributes: First 10 columns are numeric predictive values\n",
            "\n",
            "  :Target: Column 11 is a quantitative measure of disease progression one year after baseline\n",
            "\n",
            "  :Attribute Information:\n",
            "      - Age\n",
            "      - Sex\n",
            "      - Body mass index\n",
            "      - Average blood pressure\n",
            "      - S1\n",
            "      - S2\n",
            "      - S3\n",
            "      - S4\n",
            "      - S5\n",
            "      - S6\n",
            "\n",
            "Note: Each of these 10 feature variables have been mean centered and scaled by the standard deviation times `n_samples` (i.e. the sum of squares of each column totals 1).\n",
            "\n",
            "Source URL:\n",
            "https://www4.stat.ncsu.edu/~boos/var.select/diabetes.html\n",
            "\n",
            "For more information see:\n",
            "Bradley Efron, Trevor Hastie, Iain Johnstone and Robert Tibshirani (2004) \"Least Angle Regression,\" Annals of Statistics (with discussion), 407-499.\n",
            "(https://web.stanford.edu/~hastie/Papers/LARS/LeastAngle_2002.pdf)\n"
          ],
          "name": "stdout"
        }
      ]
    },
    {
      "cell_type": "markdown",
      "metadata": {
        "id": "sKPIef6CZYoR"
      },
      "source": [
        "The target values are stored in the vector `y`.  The attributes for the diabetes data are stored in a data matrix, `X`.  The size is is number of samples (442) x number of attributes (10)."
      ]
    },
    {
      "cell_type": "code",
      "metadata": {
        "id": "238a7HBrZYoT",
        "colab": {
          "base_uri": "https://localhost:8080/",
          "height": 50
        },
        "outputId": "e4f230c9-7f13-430f-83ac-cfa4701925bb"
      },
      "source": [
        "nsamp, natt = X.shape\n",
        "print(\"num samples={0:d}  num attributes={1:d}\".format(nsamp,natt))\n"
      ],
      "execution_count": null,
      "outputs": [
        {
          "output_type": "stream",
          "text": [
            "num samples=442  num attributes=10\n",
            "10\n"
          ],
          "name": "stdout"
        }
      ]
    },
    {
      "cell_type": "markdown",
      "metadata": {
        "id": "vQjxkmsKZYof"
      },
      "source": [
        "In class exercise: Print the (normalized) ages of the first 5 subjects?"
      ]
    },
    {
      "cell_type": "code",
      "metadata": {
        "id": "PNxYg3I5ZYoi",
        "colab": {
          "base_uri": "https://localhost:8080/",
          "height": 34
        },
        "outputId": "90ac4884-02ef-4610-f235-7252f6457f28"
      },
      "source": [
        "#TODO\n",
        "age = X[0:5,0]\n",
        "print(age)"
      ],
      "execution_count": null,
      "outputs": [
        {
          "output_type": "stream",
          "text": [
            "[ 0.03807591 -0.00188202  0.08529891 -0.08906294  0.00538306]\n"
          ],
          "name": "stdout"
        }
      ]
    },
    {
      "cell_type": "markdown",
      "metadata": {
        "id": "YdP1Z5hJZYos"
      },
      "source": [
        "In-class exercise:   Print the attributes S1-S3 for subjects 10-15"
      ]
    },
    {
      "cell_type": "code",
      "metadata": {
        "id": "fsNFuL3UZYou",
        "colab": {
          "base_uri": "https://localhost:8080/",
          "height": 101
        },
        "outputId": "ad4e595f-6c63-44c3-b0d0-e86600f5f51c"
      },
      "source": [
        "#TODO\n",
        "S1ToS3 = X[10:15,4:7]\n",
        "print(S1ToS3)"
      ],
      "execution_count": null,
      "outputs": [
        {
          "output_type": "stream",
          "text": [
            "[[-1.03389471e-01 -9.05611890e-02 -1.39477432e-02]\n",
            " [-7.07277125e-03  4.59715403e-02 -6.54906725e-02]\n",
            " [-4.32086554e-03 -9.76888589e-03  4.49584616e-02]\n",
            " [-4.32086554e-03 -1.57187067e-02 -2.90282981e-03]\n",
            " [ 1.76943802e-02 -6.12835791e-05  8.17748397e-02]]\n"
          ],
          "name": "stdout"
        }
      ]
    },
    {
      "cell_type": "markdown",
      "metadata": {
        "id": "fJSXmzuDZYo5"
      },
      "source": [
        "In class exercise:  Create a scatter plot of the target variable, `y` vs. the BMI.  Does there seem to be a relation?  What about `y` vs. the age?  Which is a better predictor?  "
      ]
    },
    {
      "cell_type": "code",
      "metadata": {
        "id": "KT1IelJkZYo8",
        "colab": {
          "base_uri": "https://localhost:8080/",
          "height": 279
        },
        "outputId": "242d2c62-a9ef-48ac-a00f-8dae5538c4c9"
      },
      "source": [
        "#TODO\n",
        "BMI = X[:,2]\n",
        "plt.plot(BMI,y,'o')\n",
        "plt.xlabel(\"BMI\")\n",
        "plt.ylabel('y')\n",
        "plt.grid(True)"
      ],
      "execution_count": null,
      "outputs": [
        {
          "output_type": "display_data",
          "data": {
            "image/png": "[encoded data removed]",
            "text/plain": [
              "<Figure size 432x288 with 1 Axes>"
            ]
          },
          "metadata": {
            "tags": [],
            "needs_background": "light"
          }
        }
      ]
    },
    {
      "cell_type": "code",
      "metadata": {
        "id": "CXY4ZV4peeby",
        "colab": {
          "base_uri": "https://localhost:8080/",
          "height": 279
        },
        "outputId": "1000705b-2c12-402e-d5c9-254b1c91e795"
      },
      "source": [
        "AGE = X[:,0]\n",
        "plt.plot(AGE,y,'o')\n",
        "plt.xlabel(\"AGE\")\n",
        "plt.ylabel('y')\n",
        "plt.grid(True)"
      ],
      "execution_count": null,
      "outputs": [
        {
          "output_type": "display_data",
          "data": {
            "image/png": "[encoded data removed]",
            "text/plain": [
              "<Figure size 432x288 with 1 Axes>"
            ]
          },
          "metadata": {
            "tags": [],
            "needs_background": "light"
          }
        }
      ]
    },
    {
      "cell_type": "markdown",
      "metadata": {
        "id": "x30VV6nmetZa"
      },
      "source": [
        "from the graph, we can see that BMI is correlate with target, but the age is not. So, BMI is a good predictor"
      ]
    },
    {
      "cell_type": "markdown",
      "metadata": {
        "id": "zqD3e-nVZYpG"
      },
      "source": [
        "## Using Simple Linear Regression for Each Feature Individually\n",
        "\n",
        "As a first attempt to predict the glucouse level, we could try *one attribute at a time*.  That is, for each attribute $x_k$, we could attempt to fit a [simple linear regression](../simp_lin_reg/readme.md) model:\n",
        "$$ \\hat{y} = \\beta_{0,k} + \\beta_{1,k}x_k$$\n",
        "where $\\beta_{0,k}$ and $\\beta_{1,k}$ are the coefficients in the simple linear regression model using only the attribute $x_k$.\n",
        "\n",
        "Now, we saw in class, that the goodness of fit in a simple linear regression model is given by the coefficient of determination.  Let $R_k^2$ be the coefficient for predicting $y$ from the $k$-th predictor $x_k$:\n",
        "$$R^2_k = \\frac{|s_{x_k,y}|^2}{s_{x_k}^2 s_y^2}.$$\n",
        "The following code computes $R^2_k$ for each variable $k$ as well as the coefficients in the linear model, $\\beta_{0,k}$ and $\\beta_{1,k}$"
      ]
    },
    {
      "cell_type": "code",
      "metadata": {
        "scrolled": true,
        "id": "RAits_j_ZYpI",
        "colab": {
          "base_uri": "https://localhost:8080/",
          "height": 185
        },
        "outputId": "1e979351-e8ca-411c-c5d5-01ad4064cef5"
      },
      "source": [
        "ym = np.mean(y)\n",
        "syy = np.mean((y-ym)**2)\n",
        "Rsq = np.zeros(natt)\n",
        "beta0 = np.zeros(natt)\n",
        "beta1 = np.zeros(natt)\n",
        "for k in range(natt):\n",
        "    xm = np.mean(X[:,k])\n",
        "    sxy = np.mean((X[:,k]-xm)*(y-ym))\n",
        "    sxx = np.mean((X[:,k]-xm)**2)\n",
        "    beta1[k] = sxy/sxx\n",
        "    beta0[k] = ym - beta1[k]*xm\n",
        "    Rsq[k] = (sxy)**2/sxx/syy\n",
        "    \n",
        "    print(\"{0:2d} Rsq={1:f} beta0={2:f} beta1={3:f}\".format(k,Rsq[k],beta0[k],beta1[k]))\n"
      ],
      "execution_count": null,
      "outputs": [
        {
          "output_type": "stream",
          "text": [
            " 0 Rsq=0.035302 beta0=152.133484 beta1=304.183075\n",
            " 1 Rsq=0.001854 beta0=152.133484 beta1=69.715356\n",
            " 2 Rsq=0.343924 beta0=152.133484 beta1=949.435260\n",
            " 3 Rsq=0.194908 beta0=152.133484 beta1=714.741644\n",
            " 4 Rsq=0.044954 beta0=152.133484 beta1=343.254452\n",
            " 5 Rsq=0.030295 beta0=152.133484 beta1=281.784593\n",
            " 6 Rsq=0.155859 beta0=152.133484 beta1=-639.145279\n",
            " 7 Rsq=0.185290 beta0=152.133484 beta1=696.883030\n",
            " 8 Rsq=0.320224 beta0=152.133484 beta1=916.138723\n",
            " 9 Rsq=0.146294 beta0=152.133484 beta1=619.222821\n"
          ],
          "name": "stdout"
        }
      ]
    },
    {
      "cell_type": "markdown",
      "metadata": {
        "id": "Ee-oyrRCZYpT"
      },
      "source": [
        "We see that the best $R^2_k = 0.34$.  That is, only about 34% of the variance is explained by a linear model with any one variable.  We can see this somewhat poor fit in the scatter plot as well where there is a significat variation from the regression line.\n",
        "Also notice that beta0 are all the same no matter which attribute is used to predict the target!"
      ]
    },
    {
      "cell_type": "code",
      "metadata": {
        "id": "7kPsXN2lZYpV",
        "outputId": "43b243fd-bb81-406f-83c7-c65004d57c47"
      },
      "source": [
        "# Find the index of the single variable with the best R^2\n",
        "imax = np.argmax(Rsq)\n",
        "\n",
        "# Regression line over the range of x values\n",
        "xmin = np.min(X[:,imax])\n",
        "xmax = np.max(X[:,imax])\n",
        "ymin = beta0[imax] + beta1[imax]*xmin\n",
        "ymax = beta0[imax] + beta1[imax]*xmax\n",
        "plt.plot([xmin,xmax], [ymin,ymax], 'r-', linewidth=3)\n",
        "\n",
        "# Scatter plot of points\n",
        "plt.scatter(X[:,imax],y)\n",
        "plt.grid()"
      ],
      "execution_count": null,
      "outputs": [
        {
          "output_type": "display_data",
          "data": {
            "image/png": "[encoded data removed]",
            "text/plain": [
              "<Figure size 432x288 with 1 Axes>"
            ]
          },
          "metadata": {
            "tags": [],
            "needs_background": "light"
          }
        }
      ]
    },
    {
      "cell_type": "markdown",
      "metadata": {
        "id": "jZzq1pRxZYph"
      },
      "source": [
        "Note that the calculations above could have been done without a for-loop using Python broadcasting:"
      ]
    },
    {
      "cell_type": "code",
      "metadata": {
        "id": "5g3UYYzGZYpi"
      },
      "source": [
        "# Remove the means\n",
        "ym = np.mean(y) \n",
        "y1 = y-ym  # a column vecotor each minus mean\n",
        "Xm = np.mean(X,axis=0) # averaging over column, resulting a row vector of dimension natt\n",
        "X1 = X - Xm[None,:] # minus the same mean in each column\n",
        "\n",
        "# Compute the correlations per features\n",
        "syy = np.mean(y1**2)\n",
        "Sxx = np.mean(X1**2,axis=0) #a row vector with each element indicating the variance of one attribute\n",
        "Sxy = np.mean(X1*y1[:,None],axis=0) #a row vector with each element indicating the covarance on one attribute to the targer\n",
        "\n",
        "# Compute the coefficients and R^2 value per feature\n",
        "beta1 = Sxy/Sxx # element wise division, resulting a row vector containing  beta1 for each attribute\n",
        "beta0 = ym - beta1*Xm # element wise multiplication, resulting a row vector containing beta0 for each attribute\n",
        "Rsq = Sxy**2/Sxx/syy #a row vector containing Rsq for each attribute"
      ],
      "execution_count": null,
      "outputs": []
    },
    {
      "cell_type": "markdown",
      "metadata": {
        "id": "kow_xS6HZYqB"
      },
      "source": [
        "Now let us see whether we get the same result:"
      ]
    },
    {
      "cell_type": "code",
      "metadata": {
        "id": "nRJcJs5kZYqD",
        "outputId": "f5130304-26fe-4604-bfb8-e6a7c1771b6a"
      },
      "source": [
        "for k in range(natt):\n",
        "    print(\"{0:2d} Rsq={1:f} beta0={2:f} beta1={3:f}\".format(k,Rsq[k],beta0[k],beta1[k]))"
      ],
      "execution_count": null,
      "outputs": [
        {
          "output_type": "stream",
          "text": [
            " 0 Rsq=0.035302 beta0=152.133484 beta1=304.183075\n",
            " 1 Rsq=0.001854 beta0=152.133484 beta1=69.715356\n",
            " 2 Rsq=0.343924 beta0=152.133484 beta1=949.435260\n",
            " 3 Rsq=0.194908 beta0=152.133484 beta1=714.741644\n",
            " 4 Rsq=0.044954 beta0=152.133484 beta1=343.254452\n",
            " 5 Rsq=0.030295 beta0=152.133484 beta1=281.784593\n",
            " 6 Rsq=0.155859 beta0=152.133484 beta1=-639.145279\n",
            " 7 Rsq=0.185290 beta0=152.133484 beta1=696.883030\n",
            " 8 Rsq=0.320224 beta0=152.133484 beta1=916.138723\n",
            " 9 Rsq=0.146294 beta0=152.133484 beta1=619.222821\n"
          ],
          "name": "stdout"
        }
      ]
    },
    {
      "cell_type": "markdown",
      "metadata": {
        "id": "zslFC-WpZYqR"
      },
      "source": [
        "## Improvements with a Multiple Variable Linear Model\n",
        "\n",
        "One possible way to try to improve the fit is to use multiple variables at the same time.  We can fit the multipe linear model using the `sklearn` package.  \n",
        "\n",
        "For reasons that we will explain in the next demo, we need to split the data into two parts:  one part for training the model and a second part for testing the fit.  In this example, we will use `ns_test=300` samples for training and the remaining `ns_test=442-300=142` for testing."
      ]
    },
    {
      "cell_type": "code",
      "metadata": {
        "id": "aQb-wGH3ZYqT",
        "colab": {
          "base_uri": "https://localhost:8080/",
          "height": 235
        },
        "outputId": "28eed0f5-ab79-4730-a8b2-30c5f6d1288d"
      },
      "source": [
        "ns_train = 300\n",
        "ns_test = nsamp - ns_train\n",
        "X_tr = X[:ns_train,:]     # Gets the first ns_train rows of X\n",
        "y_tr = y[:ns_train]       # Gets the correspoinding rows of y\n"
      ],
      "execution_count": null,
      "outputs": [
        {
          "output_type": "stream",
          "text": [
            "[[ 0.03807591  0.05068012  0.06169621 ... -0.00259226  0.01990842\n",
            "  -0.01764613]\n",
            " [-0.00188202 -0.04464164 -0.05147406 ... -0.03949338 -0.06832974\n",
            "  -0.09220405]\n",
            " [ 0.08529891  0.05068012  0.04445121 ... -0.00259226  0.00286377\n",
            "  -0.02593034]\n",
            " ...\n",
            " [ 0.00175052 -0.04464164 -0.00836158 ... -0.03949338 -0.06468302\n",
            "  -0.05492509]\n",
            " [ 0.02354575  0.05068012 -0.0374625  ... -0.03949338 -0.03075121\n",
            "  -0.01350402]\n",
            " [ 0.03807591  0.05068012 -0.01375064 ... -0.00259226 -0.02595242\n",
            "  -0.0010777 ]]\n"
          ],
          "name": "stdout"
        }
      ]
    },
    {
      "cell_type": "markdown",
      "metadata": {
        "id": "D51dGeGlZYqf"
      },
      "source": [
        "To fit the linear model, we first create a regression object and then fit the data with regression object."
      ]
    },
    {
      "cell_type": "code",
      "metadata": {
        "id": "GVhO4P8aZYqi",
        "colab": {
          "base_uri": "https://localhost:8080/",
          "height": 34
        },
        "outputId": "0fd3e13c-fd2c-4f52-c4b1-b8c22bbea83d"
      },
      "source": [
        "regr = linear_model.LinearRegression()\n",
        "regr.fit(X_tr,y_tr)"
      ],
      "execution_count": null,
      "outputs": [
        {
          "output_type": "execute_result",
          "data": {
            "text/plain": [
              "LinearRegression(copy_X=True, fit_intercept=True, n_jobs=None, normalize=False)"
            ]
          },
          "metadata": {
            "tags": []
          },
          "execution_count": 34
        }
      ]
    },
    {
      "cell_type": "markdown",
      "metadata": {
        "id": "wnRcTAqNs-Ug"
      },
      "source": [
        ""
      ]
    },
    {
      "cell_type": "markdown",
      "metadata": {
        "id": "fH236cThZYqt"
      },
      "source": [
        "You can see the coefficients"
      ]
    },
    {
      "cell_type": "code",
      "metadata": {
        "id": "UB_3kUDpZYqu",
        "colab": {
          "base_uri": "https://localhost:8080/",
          "height": 34
        },
        "outputId": "8ca8ad37-e2a5-4343-cb9d-a947b13bfd94"
      },
      "source": [
        "regr.intercept_"
      ],
      "execution_count": null,
      "outputs": [
        {
          "output_type": "execute_result",
          "data": {
            "text/plain": [
              "152.34786451820108"
            ]
          },
          "metadata": {
            "tags": []
          },
          "execution_count": 36
        }
      ]
    },
    {
      "cell_type": "code",
      "metadata": {
        "id": "vy_zulIHZYq6",
        "colab": {
          "base_uri": "https://localhost:8080/",
          "height": 67
        },
        "outputId": "97baa7a7-902e-40ee-a8e3-22452d52ae39"
      },
      "source": [
        "regr.coef_"
      ],
      "execution_count": null,
      "outputs": [
        {
          "output_type": "execute_result",
          "data": {
            "text/plain": [
              "array([ -16.57607993, -254.66532396,  560.98630022,  278.91811152,\n",
              "       -393.41357305,   97.05460405,  -19.0023093 ,  169.46450327,\n",
              "        632.95050374,  114.21638941])"
            ]
          },
          "metadata": {
            "tags": []
          },
          "execution_count": 35
        }
      ]
    },
    {
      "cell_type": "markdown",
      "metadata": {
        "id": "iRnXm_uoZYrH"
      },
      "source": [
        "We next compute the RSS (per sample) and the R^2 on the training data"
      ]
    },
    {
      "cell_type": "code",
      "metadata": {
        "id": "rL56JW4ZZYrJ",
        "colab": {
          "base_uri": "https://localhost:8080/",
          "height": 50
        },
        "outputId": "4793167e-b591-49e9-c7be-e21dc206ec4c"
      },
      "source": [
        "y_tr_pred = regr.predict(X_tr)\n",
        "RSS_tr = np.mean((y_tr_pred-y_tr)**2)/(np.std(y_tr)**2)\n",
        "Rsq_tr = 1-RSS_tr\n",
        "print(\"RSS per sample = {0:f}\".format(RSS_tr))\n",
        "print(\"R^2 =            {0:f}\".format(Rsq_tr))"
      ],
      "execution_count": null,
      "outputs": [
        {
          "output_type": "stream",
          "text": [
            "RSS per sample = 0.485281\n",
            "R^2 =            0.514719\n"
          ],
          "name": "stdout"
        }
      ]
    },
    {
      "cell_type": "markdown",
      "metadata": {
        "id": "YoPEGKf8ZYrU"
      },
      "source": [
        "We see R^2 is higher than the best single variable model -- more than 51% of the target variance is explained by the model instead of just 34% for the best single variable model.  \n",
        "\n",
        "We also create a scatter plot of predicted vs. actual"
      ]
    },
    {
      "cell_type": "code",
      "metadata": {
        "id": "ICZ92ygRZYrX",
        "outputId": "f27f7790-1ec3-4fae-d833-8aad9c5e15f8"
      },
      "source": [
        "plt.scatter(y_tr,y_tr_pred)\n",
        "plt.plot([0,350],[0,350],'r')\n",
        "plt.xlabel('Actual')\n",
        "plt.ylabel('Predicted')\n",
        "plt.grid()"
      ],
      "execution_count": null,
      "outputs": [
        {
          "output_type": "display_data",
          "data": {
            "image/png": "[encoded data removed]",
            "text/plain": [
              "<Figure size 432x288 with 1 Axes>"
            ]
          },
          "metadata": {
            "tags": [],
            "needs_background": "light"
          }
        }
      ]
    },
    {
      "cell_type": "markdown",
      "metadata": {
        "id": "vsWyCgY7ZYri"
      },
      "source": [
        "## Validate on Test Data\n",
        "\n",
        "As we will explain in the next lab, one should not evaluate the performance of a model on the data on which it is trained.  It is important to see how the model works on *new* data that is independent of the training data set.  For this reason, we will evaluate the model on the *test* samples that were not used in training."
      ]
    },
    {
      "cell_type": "code",
      "metadata": {
        "id": "EEBPKbMCZYrl",
        "outputId": "82174fe1-bacb-435f-8fed-90bd87445fc3"
      },
      "source": [
        "X_test = X[ns_train:,:]\n",
        "y_test = y[ns_train:]\n",
        "y_test_pred = regr.predict(X_test)\n",
        "RSS_test = np.mean((y_test_pred-y_test)**2)/(np.std(y_test)**2)\n",
        "Rsq_test = 1-RSS_test\n",
        "print(\"RSS per sample = {0:f}\".format(RSS_test))\n",
        "print(\"R^2 =            {0:f}\".format(Rsq_test))"
      ],
      "execution_count": null,
      "outputs": [
        {
          "output_type": "stream",
          "text": [
            "RSS per sample = 0.492801\n",
            "R^2 =            0.507199\n"
          ],
          "name": "stdout"
        }
      ]
    },
    {
      "cell_type": "markdown",
      "metadata": {
        "id": "M4kmguJ0ZYrx"
      },
      "source": [
        "We see that the model predicts new samples almost as well as it did the training samples.  We can also plot the fit on the test data."
      ]
    },
    {
      "cell_type": "code",
      "metadata": {
        "id": "qU0jrXS6ZYr0",
        "outputId": "d54d3f06-6593-40a9-8d7b-c93bf2497fab"
      },
      "source": [
        "plt.scatter(y_test,y_test_pred)\n",
        "plt.plot([0,350],[0,350],'r')\n",
        "plt.xlabel('Actual')\n",
        "plt.xlabel('Predicted')\n",
        "plt.grid()"
      ],
      "execution_count": null,
      "outputs": [
        {
          "output_type": "display_data",
          "data": {
            "image/png": "[encoded data removed]",
            "text/plain": [
              "<Figure size 432x288 with 1 Axes>"
            ]
          },
          "metadata": {
            "tags": [],
            "needs_background": "light"
          }
        }
      ]
    },
    {
      "cell_type": "markdown",
      "metadata": {
        "id": "viOHosD3ZYr_"
      },
      "source": [
        "## Manually Computing the Coefficients"
      ]
    },
    {
      "cell_type": "markdown",
      "metadata": {
        "id": "0Ji5EmSSZYsA"
      },
      "source": [
        "We can manually compute the regression coefficients using the least-squares matrix formula in class.  Of course, using the `sklearn` package is easier.  I illustrate the manual computation only to show what is happening \"under the hood\" of the linear regression routine. \n",
        "\n",
        "To compute the coefficients manually, we first construct the matrix $\\mathbf{A} = [ \\mathbf{1} ~ \\mathbf{X} ]$.  This is performed with the `ones` command and `hstack`.  Note that after we do this, `A` has 11 columns -- one more column that the data matrix `X_tr`."
      ]
    },
    {
      "cell_type": "code",
      "metadata": {
        "id": "DpfFeboCZYsB",
        "outputId": "06ea5e37-81fd-438e-e06e-1a4a46e295ec"
      },
      "source": [
        "ones = np.ones((ns_train,1))\n",
        "A = np.hstack((ones,X_tr))\n",
        "A.shape"
      ],
      "execution_count": null,
      "outputs": [
        {
          "output_type": "execute_result",
          "data": {
            "text/plain": [
              "(300, 11)"
            ]
          },
          "metadata": {
            "tags": []
          },
          "execution_count": 27
        }
      ]
    },
    {
      "cell_type": "markdown",
      "metadata": {
        "id": "aQdWDjehZYsL"
      },
      "source": [
        "We next use the `lstsq` method to solve $\\mathbf{y} \\approx \\mathbf{A\\beta}$.  This will find the desired least-squares fit."
      ]
    },
    {
      "cell_type": "code",
      "metadata": {
        "id": "Jn8EOH-OZYsN"
      },
      "source": [
        "out = np.linalg.lstsq(A,y_tr,rcond=None)\n",
        "beta = out[0]"
      ],
      "execution_count": null,
      "outputs": []
    },
    {
      "cell_type": "markdown",
      "metadata": {
        "id": "3HpYe-DwZYsa"
      },
      "source": [
        "We can see the coefficients"
      ]
    },
    {
      "cell_type": "code",
      "metadata": {
        "id": "sR_isFPzZYsc",
        "outputId": "a6e2c48b-6c76-45a7-9b9c-e1ad23f2f1cb"
      },
      "source": [
        "beta"
      ],
      "execution_count": null,
      "outputs": [
        {
          "output_type": "execute_result",
          "data": {
            "text/plain": [
              "array([ 152.34786452,  -16.57607993, -254.66532396,  560.98630022,\n",
              "        278.91811152, -393.41357305,   97.05460405,  -19.0023093 ,\n",
              "        169.46450327,  632.95050374,  114.21638941])"
            ]
          },
          "metadata": {
            "tags": []
          },
          "execution_count": 152
        }
      ]
    },
    {
      "cell_type": "markdown",
      "metadata": {
        "id": "vrAHLrIsZYsq"
      },
      "source": [
        "We see that `beta[0]` mathches the intercept in `regr.intercept_` from the regression fit and `beta[1:]` matches the coefficients in `regr.coef_`."
      ]
    },
    {
      "cell_type": "code",
      "metadata": {
        "id": "XoIOQ-eGZYss",
        "outputId": "75161dc8-a179-46ae-e5cc-7c030ed92c2f"
      },
      "source": [
        "regr.coef_"
      ],
      "execution_count": null,
      "outputs": [
        {
          "output_type": "execute_result",
          "data": {
            "text/plain": [
              "array([ -16.57607993, -254.66532396,  560.98630022,  278.91811152,\n",
              "       -393.41357305,   97.05460405,  -19.0023093 ,  169.46450327,\n",
              "        632.95050374,  114.21638941])"
            ]
          },
          "metadata": {
            "tags": []
          },
          "execution_count": 153
        }
      ]
    },
    {
      "cell_type": "code",
      "metadata": {
        "id": "gsJdG4c2ZYs3",
        "outputId": "01de7058-23b3-4a55-9d0a-51fb65d6adf6"
      },
      "source": [
        "regr.intercept_"
      ],
      "execution_count": null,
      "outputs": [
        {
          "output_type": "execute_result",
          "data": {
            "text/plain": [
              "152.34786451820108"
            ]
          },
          "metadata": {
            "tags": []
          },
          "execution_count": 154
        }
      ]
    },
    {
      "cell_type": "markdown",
      "metadata": {
        "id": "XzplClJpZYs_"
      },
      "source": [
        "Now let us verify this is the same as direct matrix calculation.  For a small problem like this, it makes no difference.  But, in general, using a matrix inverse like this is *much* slower computationally than using either the `lstsq` method or the `LinearRegression` class.  So, **do not ever** solve a least squares problem like this."
      ]
    },
    {
      "cell_type": "code",
      "metadata": {
        "id": "D_JYd8hMZYtB",
        "outputId": "3a8a37ba-ad3a-4fce-80c6-33530c1c7ff9"
      },
      "source": [
        "beta = np.linalg.inv(A.T.dot(A)).dot(A.T.dot(y_tr))\n",
        "print(beta)"
      ],
      "execution_count": null,
      "outputs": [
        {
          "output_type": "stream",
          "text": [
            "[ 152.34786452  -16.57607993 -254.66532396  560.98630022  278.91811152\n",
            " -393.41357305   97.05460405  -19.0023093   169.46450327  632.95050374\n",
            "  114.21638941]\n"
          ],
          "name": "stdout"
        }
      ]
    },
    {
      "cell_type": "markdown",
      "metadata": {
        "collapsed": true,
        "id": "cg3vEiWjZYtK"
      },
      "source": [
        "## In-Class Simple Exercise\n",
        "\n",
        "You are given target values `y` and features `x1` and `x2` below.  Fit the model on the first 4 data points and test the model on the fifth data point.  You may want to use the following steps\n",
        "\n",
        "*  Construct the training training data `X_tr,y_tr`\n",
        "*  Create a regression object `regr = linear_model.LinearRegression()`\n",
        "*  Fit the model with the `regr.fit()` method\n",
        "*  Predict the value on the test value with the `regr.predict()`"
      ]
    },
    {
      "cell_type": "code",
      "metadata": {
        "id": "Oq7dbNwrZYtM"
      },
      "source": [
        "x1 = np.array([0,1,3,5,4])\n",
        "x2 = np.array([0,0.7, 4.3, 15.1, 13.2])\n",
        "y = np.array([-2, -0.9, 1.5, 18, 13])\n",
        "\n",
        "# TODO"
      ],
      "execution_count": null,
      "outputs": []
    },
    {
      "cell_type": "markdown",
      "metadata": {
        "id": "Ar8QR5eH6g5_"
      },
      "source": [
        "transpose matrix, get the train data"
      ]
    },
    {
      "cell_type": "code",
      "metadata": {
        "id": "sPum3lRIZYtV",
        "colab": {
          "base_uri": "https://localhost:8080/",
          "height": 101
        },
        "outputId": "6527e5a9-ec6a-4719-f095-3de3d6926b2a"
      },
      "source": [
        "X = np.transpose(np.append([x1],[x2],axis=0))\n",
        "y_tr = y[0:4]\n",
        "X_tr = X[0:4]\n",
        "print(X)"
      ],
      "execution_count": null,
      "outputs": [
        {
          "output_type": "stream",
          "text": [
            "[[ 0.   0. ]\n",
            " [ 1.   0.7]\n",
            " [ 3.   4.3]\n",
            " [ 5.  15.1]\n",
            " [ 4.  13.2]]\n"
          ],
          "name": "stdout"
        }
      ]
    },
    {
      "cell_type": "markdown",
      "metadata": {
        "id": "dLqGMJEq6qPh"
      },
      "source": [
        "multi linear regression model,\n",
        "train the model"
      ]
    },
    {
      "cell_type": "code",
      "metadata": {
        "id": "OCvA88Ncu4J8",
        "colab": {
          "base_uri": "https://localhost:8080/",
          "height": 34
        },
        "outputId": "ff178b94-39cd-4579-cb3a-bc9ad195cb91"
      },
      "source": [
        "regr = linear_model.LinearRegression()\n",
        "regr.fit(X_tr,y_tr)"
      ],
      "execution_count": null,
      "outputs": [
        {
          "output_type": "execute_result",
          "data": {
            "text/plain": [
              "LinearRegression(copy_X=True, fit_intercept=True, n_jobs=None, normalize=False)"
            ]
          },
          "metadata": {
            "tags": []
          },
          "execution_count": 88
        }
      ]
    },
    {
      "cell_type": "code",
      "metadata": {
        "id": "qnSKQVqUvKnJ",
        "colab": {
          "base_uri": "https://localhost:8080/",
          "height": 34
        },
        "outputId": "c2996f5b-9186-4d5b-bc82-f2ea28076854"
      },
      "source": [
        "regr.intercept_"
      ],
      "execution_count": null,
      "outputs": [
        {
          "output_type": "execute_result",
          "data": {
            "text/plain": [
              "-1.5335611038107757"
            ]
          },
          "metadata": {
            "tags": []
          },
          "execution_count": 89
        }
      ]
    },
    {
      "cell_type": "code",
      "metadata": {
        "id": "fJhU7USK3OU2",
        "colab": {
          "base_uri": "https://localhost:8080/",
          "height": 34
        },
        "outputId": "8e017ceb-9793-4922-c252-d005d8d6ba96"
      },
      "source": [
        "regr.coef_"
      ],
      "execution_count": null,
      "outputs": [
        {
          "output_type": "execute_result",
          "data": {
            "text/plain": [
              "array([-1.3532523,  1.7369908])"
            ]
          },
          "metadata": {
            "tags": []
          },
          "execution_count": 90
        }
      ]
    },
    {
      "cell_type": "code",
      "metadata": {
        "id": "N54LfW-s3Q2X",
        "colab": {
          "base_uri": "https://localhost:8080/",
          "height": 50
        },
        "outputId": "7169c37d-ed1e-4429-d93b-f0b96846eb71"
      },
      "source": [
        "y_tr_pred = regr.predict(X_tr)\n",
        "RSS_tr = np.mean((y_tr_pred-y_tr)**2)/(np.std(y_tr)**2)\n",
        "Rsq_tr = 1-RSS_tr\n",
        "print(\"RSS per sample = {0:f}\".format(RSS_tr))\n",
        "print(\"R^2 =            {0:f}\".format(Rsq_tr))"
      ],
      "execution_count": null,
      "outputs": [
        {
          "output_type": "stream",
          "text": [
            "RSS per sample = 0.003655\n",
            "R^2 =            0.996345\n"
          ],
          "name": "stdout"
        }
      ]
    },
    {
      "cell_type": "code",
      "metadata": {
        "id": "ucyqQ0Sk3dDX",
        "colab": {
          "base_uri": "https://localhost:8080/",
          "height": 282
        },
        "outputId": "47284205-ff85-46c4-9e15-3a90e1cbfa8b"
      },
      "source": [
        "plt.scatter(y_tr,y_tr_pred)\n",
        "plt.plot([-3,19],[-3,19],'r')\n",
        "plt.xlabel('Actual')\n",
        "plt.ylabel('Predicted')\n",
        "plt.grid()"
      ],
      "execution_count": null,
      "outputs": [
        {
          "output_type": "display_data",
          "data": {
            "image/png": "[encoded data removed]",
            "text/plain": [
              "<Figure size 432x288 with 1 Axes>"
            ]
          },
          "metadata": {
            "tags": [],
            "needs_background": "light"
          }
        }
      ]
    },
    {
      "cell_type": "markdown",
      "metadata": {
        "id": "uJpA_V3m6zxY"
      },
      "source": [
        "Validate on the test data. But I do not know how to test only one test data? I need to ask professor or TA. When I test only one data, I will get an error. I said regr.predict() expected a 2D array. so i do not know how to do it"
      ]
    },
    {
      "cell_type": "code",
      "metadata": {
        "id": "JwPjpjTd3nMl",
        "colab": {
          "base_uri": "https://localhost:8080/",
          "height": 84
        },
        "outputId": "26d8d26e-e273-4fcc-ee40-46fb3b67a5bd"
      },
      "source": [
        "X_test = X[3:5]\n",
        "print(X_test)\n",
        "y_test = y[3:5]\n",
        "y_test_pred = regr.predict(X_test)\n",
        "RSS_test = np.mean((y_test_pred-y_test)**2)/(np.std(y_test)**2)\n",
        "Rsq_test = 1-RSS_test\n",
        "print(\"RSS per sample = {0:f}\".format(RSS_test))\n",
        "print(\"R^2 =            {0:f}\".format(Rsq_test))\n"
      ],
      "execution_count": null,
      "outputs": [
        {
          "output_type": "stream",
          "text": [
            "[[ 5.  15.1]\n",
            " [ 4.  13.2]]\n",
            "RSS per sample = 0.711653\n",
            "R^2 =            0.288347\n"
          ],
          "name": "stdout"
        }
      ]
    },
    {
      "cell_type": "code",
      "metadata": {
        "id": "tfUeGuvw4TQ_",
        "colab": {
          "base_uri": "https://localhost:8080/",
          "height": 282
        },
        "outputId": "4ae037bd-95a4-4f61-e9a0-8a05e4197091"
      },
      "source": [
        "plt.scatter(y_test,y_test_pred)\n",
        "plt.plot([-3,19],[-3,19],'r')\n",
        "plt.xlabel('Actual')\n",
        "plt.xlabel('Predicted')\n",
        "plt.grid()"
      ],
      "execution_count": null,
      "outputs": [
        {
          "output_type": "display_data",
          "data": {
            "image/png": "[encoded data removed]",
            "text/plain": [
              "<Figure size 432x288 with 1 Axes>"
            ]
          },
          "metadata": {
            "tags": [],
            "needs_background": "light"
          }
        }
      ]
    },
    {
      "cell_type": "code",
      "metadata": {
        "id": "YPxusy9z6V_v"
      },
      "source": [
        "import numpy as np"
      ],
      "execution_count": null,
      "outputs": []
    },
    {
      "cell_type": "code",
      "metadata": {
        "id": "BQAOcMoQu112"
      },
      "source": [
        "a = np.array([1,3,9])\n",
        "b = "
      ],
      "execution_count": null,
      "outputs": []
    }
  ]
}