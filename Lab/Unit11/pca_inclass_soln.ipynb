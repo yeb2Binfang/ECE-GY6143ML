{
  "nbformat": 4,
  "nbformat_minor": 0,
  "metadata": {
    "kernelspec": {
      "display_name": "Python 3",
      "language": "python",
      "name": "python3"
    },
    "language_info": {
      "codemirror_mode": {
        "name": "ipython",
        "version": 3
      },
      "file_extension": ".py",
      "mimetype": "text/x-python",
      "name": "python",
      "nbconvert_exporter": "python",
      "pygments_lexer": "ipython3",
      "version": "3.8.3"
    },
    "colab": {
      "name": "pca_inclass_soln.ipynb",
      "provenance": [],
      "include_colab_link": true
    }
  },
  "cells": [
    {
      "cell_type": "markdown",
      "metadata": {
        "id": "view-in-github",
        "colab_type": "text"
      },
      "source": [
        "<a href=\"https://colab.research.google.com/github/yeb2Binfang/ECE-GY6143ML/blob/main/Lab/Unit11/pca_inclass_soln.ipynb\" target=\"_parent\"><img src=\"https://colab.research.google.com/assets/colab-badge.svg\" alt=\"Open In Colab\"/></a>"
      ]
    },
    {
      "cell_type": "markdown",
      "metadata": {
        "id": "qR5b1gHbqoZk"
      },
      "source": [
        "# PCA In-Class Exercise Solutions\n",
        "\n"
      ]
    },
    {
      "cell_type": "code",
      "metadata": {
        "id": "GBa-DOm7qoZl"
      },
      "source": [
        "import numpy as np\n",
        "import matplotlib.pyplot as plt"
      ],
      "execution_count": null,
      "outputs": []
    },
    {
      "cell_type": "markdown",
      "metadata": {
        "id": "3e5CcoZ9qoZl"
      },
      "source": [
        "## Exercise 1:  Computing PCs Manually on a Synthetic Dataset\n",
        "\n",
        "We begin by showing how to compute and visualize PCs manually on a simple 2-dim synthentic data set.  First, run the following code to generate 100 samples of synthetic data.  Each data point has `d=2` dimensions."
      ]
    },
    {
      "cell_type": "code",
      "metadata": {
        "id": "xYzwCgr_qoZl",
        "colab": {
          "base_uri": "https://localhost:8080/"
        },
        "outputId": "5554072f-c96a-4fb9-d0f1-ad4469cd0c95"
      },
      "source": [
        "p = 0.5\n",
        "std = 0.2\n",
        "s = np.array([2,1])\n",
        "d = 2\n",
        "ns = 100\n",
        "\n",
        "U = np.random.normal(0,std,(ns,d))\n",
        "v = np.random.uniform(0,1,ns)\n",
        "X = U + (v < p)[:,None]*s[None,:]\n",
        "\n",
        "print(X[:10])"
      ],
      "execution_count": null,
      "outputs": [
        {
          "output_type": "stream",
          "text": [
            "[[ 1.98926616  1.18781317]\n",
            " [-0.05589312 -0.25479973]\n",
            " [ 2.08398376  1.0662439 ]\n",
            " [-0.08970391  0.28729989]\n",
            " [ 1.89868141  1.11463162]\n",
            " [-0.18757627  0.07326735]\n",
            " [ 0.17959798 -0.02770245]\n",
            " [ 1.94801275  0.75067122]\n",
            " [-0.13289827  0.08310323]\n",
            " [ 0.00696904  0.19731014]]\n"
          ],
          "name": "stdout"
        }
      ]
    },
    {
      "cell_type": "markdown",
      "metadata": {
        "id": "v7OPMllWqoZl"
      },
      "source": [
        "Create a scatter plot of the data of the two features of the data, `X[:,0]` and `X[:,1]`."
      ]
    },
    {
      "cell_type": "code",
      "metadata": {
        "scrolled": true,
        "id": "tdpETOjdqoZl",
        "colab": {
          "base_uri": "https://localhost:8080/",
          "height": 296
        },
        "outputId": "34b85b29-1a28-4f3f-c833-65654447d0b2"
      },
      "source": [
        "# TODO\n",
        "plt.plot(X[:,0], X[:,1], 'o')\n",
        "plt.grid()\n",
        "plt.xlabel('x0')\n",
        "plt.ylabel('x1')"
      ],
      "execution_count": null,
      "outputs": [
        {
          "output_type": "execute_result",
          "data": {
            "text/plain": [
              "Text(0, 0.5, 'x1')"
            ]
          },
          "metadata": {
            "tags": []
          },
          "execution_count": 10
        },
        {
          "output_type": "display_data",
          "data": {
            "image/png": "[encoded data removed]",
            "text/plain": [
              "<Figure size 432x288 with 1 Axes>"
            ]
          },
          "metadata": {
            "tags": [],
            "needs_background": "light"
          }
        }
      ]
    },
    {
      "cell_type": "markdown",
      "metadata": {
        "id": "dO2-QSusqoZm"
      },
      "source": [
        "We now manually compute the first principal component.  Later, we will find a faster way using an SVD.\n",
        "\n",
        "*  Compute `xm` the mean of each of the two features.\n",
        "*  Compute `Xm`, the matrix of data samples with the means removed\n",
        "*  Compute the covariance matrix `Q = (1/ns)*Xm.T.dot(Xm)`\n",
        "*  Compute the eigenvalues `lam` and eigenvectors `V` of `Q` using the `np.linalg.eigh(Q)` command.\n",
        "*  Set `v0` be the eigenvector corresponding to the largest eigenvalue.  This is is the first PC."
      ]
    },
    {
      "cell_type": "code",
      "metadata": {
        "id": "b5dd6pWaqoZm"
      },
      "source": [
        "# TODO\n",
        "#   xm = ...\n",
        "#   Q = ...\n",
        "#   lam, V = ...\n",
        "#   v0 = ...\n",
        "\n",
        "# Remove the mean from the data\n",
        "xm = np.mean(X,axis=0)\n",
        "Xm = X - xm[None,:]\n",
        "\n",
        "# Compute the covariance matrix\n",
        "Q = 1/ns*(Xm.T.dot(Xm))\n",
        "\n",
        "# Compute the eigenvalues and the largest eigenvector\n",
        "lam, V = np.linalg.eigh(Q)\n",
        "im = np.argmax(lam)\n",
        "lam0 = lam[im]\n",
        "v0 = V[:,im]"
      ],
      "execution_count": null,
      "outputs": []
    },
    {
      "cell_type": "code",
      "metadata": {
        "colab": {
          "base_uri": "https://localhost:8080/"
        },
        "id": "EDL-P_W0YnNH",
        "outputId": "b512e792-c86b-42a2-bb07-a7ad000d9bd7"
      },
      "source": [
        "lam, V = np.linalg.eigh(Q)\n",
        "print(\"the eigenvalues is:\")\n",
        "print(lam)\n",
        "print()\n",
        "print(\"the eigenvector is:\")\n",
        "print(V)"
      ],
      "execution_count": null,
      "outputs": [
        {
          "output_type": "stream",
          "text": [
            "the eigenvalues is:\n",
            "[0.03755178 1.22172971]\n",
            "\n",
            "the eigenvector is:\n",
            "[[ 0.43918752 -0.89839541]\n",
            " [-0.89839541 -0.43918752]]\n"
          ],
          "name": "stdout"
        }
      ]
    },
    {
      "cell_type": "code",
      "metadata": {
        "colab": {
          "base_uri": "https://localhost:8080/"
        },
        "id": "bgYOBBYobFWs",
        "outputId": "a2052d39-7840-474c-aec5-11b15c9e4b3c"
      },
      "source": [
        "im = np.argmax(lam)\n",
        "lam0 = lam[im]\n",
        "v0 = V[:,im]\n",
        "print(\"the largest eigenvalues is:\")\n",
        "print(lam0)\n",
        "print()\n",
        "print(\"the largest eigenvector is:\")\n",
        "print(v0)"
      ],
      "execution_count": null,
      "outputs": [
        {
          "output_type": "stream",
          "text": [
            "the largest eigenvalues is:\n",
            "1.2217297052316276\n",
            "\n",
            "the largest eigenvector is:\n",
            "[-0.89839541 -0.43918752]\n"
          ],
          "name": "stdout"
        }
      ]
    },
    {
      "cell_type": "markdown",
      "metadata": {
        "id": "-OtqvdCZqoZm"
      },
      "source": [
        "Compute the projection of the data vectors onto the first PC with the following:\n",
        "    \n",
        "    z[i] = Xm[i,:].dot(v0)\n",
        "    Xhat[i,:] = xm + v0*z[i]\n",
        "    \n",
        "Note that we remove the mean when projecting and then add it back.\n",
        "Create a scatter plot with:\n",
        "\n",
        "*  The original data points `X[:,0], X[:,1]` in one color\n",
        "*  The projected data points `Xhat[:,0], Xhat[:,1]` in a second color"
      ]
    },
    {
      "cell_type": "code",
      "metadata": {
        "id": "oGez-fOjqoZm",
        "colab": {
          "base_uri": "https://localhost:8080/",
          "height": 265
        },
        "outputId": "6bded631-8eab-4150-ac62-e8aaac5dd77a"
      },
      "source": [
        "z = Xm.dot(v0)\n",
        "Xhat = z[:,None]*v0[None,:] + xm[None,:]\n",
        "\n",
        "plt.plot(X[:,0], X[:,1], 'bo')\n",
        "plt.plot(Xhat[:,0], Xhat[:,1], 'go')\n",
        "plt.grid()\n"
      ],
      "execution_count": null,
      "outputs": [
        {
          "output_type": "display_data",
          "data": {
            "image/png": "[encoded data removed]",
            "text/plain": [
              "<Figure size 432x288 with 1 Axes>"
            ]
          },
          "metadata": {
            "tags": [],
            "needs_background": "light"
          }
        }
      ]
    },
    {
      "cell_type": "code",
      "metadata": {
        "colab": {
          "base_uri": "https://localhost:8080/"
        },
        "id": "YPTVE-LPcp0t",
        "outputId": "15c28208-91ed-427f-947a-6ec3a5e37bd5"
      },
      "source": [
        "z = Xm.dot(v0)\n",
        "print(z)"
      ],
      "execution_count": null,
      "outputs": [
        {
          "output_type": "stream",
          "text": [
            "[-1.17094621  1.2999931  -1.20264836  1.09228517 -1.05742486  1.27421367\n",
            "  0.98869067 -0.94189704  1.22077141  1.04495701 -0.81991065  1.17534007\n",
            "  1.12406727 -1.12353514  0.8849959  -1.03671434 -1.44955766  1.46211656\n",
            " -0.78259304 -0.82432454 -1.38669539 -0.67364145 -0.83304164  1.40243083\n",
            "  1.09731817  1.25846624  1.2867728   1.20733034 -1.27390732 -1.21917962\n",
            " -0.78943956 -1.15115393 -0.92010987  1.15881224 -0.65412674  1.3173459\n",
            " -0.94962186  0.93022574  1.04009973 -1.29025955 -1.08697492 -0.86793631\n",
            " -0.99472449 -0.74385188 -1.18887931  1.02495919 -1.05869643  1.11908959\n",
            "  1.09897505  1.22801163  1.30414702 -1.13211765 -0.58376285  0.9121029\n",
            " -0.9860234   1.46912548 -1.14904131 -1.00936064  0.97654225 -1.52485354\n",
            " -1.30626613  1.17781593 -1.00092667  0.9440066   0.90258221 -1.35616318\n",
            "  0.93031405 -0.95478565  1.17457522 -0.72666238  1.27626372 -1.60460691\n",
            " -0.94540301 -1.2478829   0.97694739  1.08429491  0.93214722 -1.23579203\n",
            " -1.032105   -1.32072221  1.25244873 -1.31270823  0.72209139 -1.38384643\n",
            " -0.9240935   0.94844197  0.77109708 -0.85468044  0.93357818  1.06143098\n",
            " -0.99202075  1.35600744  1.15437424 -1.22361074  1.11320657  1.47829408\n",
            "  0.79662413  0.82536897  1.04423494 -0.9561042 ]\n"
          ],
          "name": "stdout"
        }
      ]
    },
    {
      "cell_type": "code",
      "metadata": {
        "colab": {
          "base_uri": "https://localhost:8080/"
        },
        "id": "xcDmb7jSfbI3",
        "outputId": "2a844b7d-814a-453b-910a-aa111e406cf5"
      },
      "source": [
        "Xhat = np.tile(xm,(ns,1))\n",
        "print(Xhat)"
      ],
      "execution_count": null,
      "outputs": [
        {
          "output_type": "stream",
          "text": [
            "[[1.02461756 0.49491933]\n",
            " [1.02461756 0.49491933]\n",
            " [1.02461756 0.49491933]\n",
            " [1.02461756 0.49491933]\n",
            " [1.02461756 0.49491933]\n",
            " [1.02461756 0.49491933]\n",
            " [1.02461756 0.49491933]\n",
            " [1.02461756 0.49491933]\n",
            " [1.02461756 0.49491933]\n",
            " [1.02461756 0.49491933]\n",
            " [1.02461756 0.49491933]\n",
            " [1.02461756 0.49491933]\n",
            " [1.02461756 0.49491933]\n",
            " [1.02461756 0.49491933]\n",
            " [1.02461756 0.49491933]\n",
            " [1.02461756 0.49491933]\n",
            " [1.02461756 0.49491933]\n",
            " [1.02461756 0.49491933]\n",
            " [1.02461756 0.49491933]\n",
            " [1.02461756 0.49491933]\n",
            " [1.02461756 0.49491933]\n",
            " [1.02461756 0.49491933]\n",
            " [1.02461756 0.49491933]\n",
            " [1.02461756 0.49491933]\n",
            " [1.02461756 0.49491933]\n",
            " [1.02461756 0.49491933]\n",
            " [1.02461756 0.49491933]\n",
            " [1.02461756 0.49491933]\n",
            " [1.02461756 0.49491933]\n",
            " [1.02461756 0.49491933]\n",
            " [1.02461756 0.49491933]\n",
            " [1.02461756 0.49491933]\n",
            " [1.02461756 0.49491933]\n",
            " [1.02461756 0.49491933]\n",
            " [1.02461756 0.49491933]\n",
            " [1.02461756 0.49491933]\n",
            " [1.02461756 0.49491933]\n",
            " [1.02461756 0.49491933]\n",
            " [1.02461756 0.49491933]\n",
            " [1.02461756 0.49491933]\n",
            " [1.02461756 0.49491933]\n",
            " [1.02461756 0.49491933]\n",
            " [1.02461756 0.49491933]\n",
            " [1.02461756 0.49491933]\n",
            " [1.02461756 0.49491933]\n",
            " [1.02461756 0.49491933]\n",
            " [1.02461756 0.49491933]\n",
            " [1.02461756 0.49491933]\n",
            " [1.02461756 0.49491933]\n",
            " [1.02461756 0.49491933]\n",
            " [1.02461756 0.49491933]\n",
            " [1.02461756 0.49491933]\n",
            " [1.02461756 0.49491933]\n",
            " [1.02461756 0.49491933]\n",
            " [1.02461756 0.49491933]\n",
            " [1.02461756 0.49491933]\n",
            " [1.02461756 0.49491933]\n",
            " [1.02461756 0.49491933]\n",
            " [1.02461756 0.49491933]\n",
            " [1.02461756 0.49491933]\n",
            " [1.02461756 0.49491933]\n",
            " [1.02461756 0.49491933]\n",
            " [1.02461756 0.49491933]\n",
            " [1.02461756 0.49491933]\n",
            " [1.02461756 0.49491933]\n",
            " [1.02461756 0.49491933]\n",
            " [1.02461756 0.49491933]\n",
            " [1.02461756 0.49491933]\n",
            " [1.02461756 0.49491933]\n",
            " [1.02461756 0.49491933]\n",
            " [1.02461756 0.49491933]\n",
            " [1.02461756 0.49491933]\n",
            " [1.02461756 0.49491933]\n",
            " [1.02461756 0.49491933]\n",
            " [1.02461756 0.49491933]\n",
            " [1.02461756 0.49491933]\n",
            " [1.02461756 0.49491933]\n",
            " [1.02461756 0.49491933]\n",
            " [1.02461756 0.49491933]\n",
            " [1.02461756 0.49491933]\n",
            " [1.02461756 0.49491933]\n",
            " [1.02461756 0.49491933]\n",
            " [1.02461756 0.49491933]\n",
            " [1.02461756 0.49491933]\n",
            " [1.02461756 0.49491933]\n",
            " [1.02461756 0.49491933]\n",
            " [1.02461756 0.49491933]\n",
            " [1.02461756 0.49491933]\n",
            " [1.02461756 0.49491933]\n",
            " [1.02461756 0.49491933]\n",
            " [1.02461756 0.49491933]\n",
            " [1.02461756 0.49491933]\n",
            " [1.02461756 0.49491933]\n",
            " [1.02461756 0.49491933]\n",
            " [1.02461756 0.49491933]\n",
            " [1.02461756 0.49491933]\n",
            " [1.02461756 0.49491933]\n",
            " [1.02461756 0.49491933]\n",
            " [1.02461756 0.49491933]\n",
            " [1.02461756 0.49491933]]\n"
          ],
          "name": "stdout"
        }
      ]
    },
    {
      "cell_type": "markdown",
      "metadata": {
        "id": "Z7g09p3eqoZm"
      },
      "source": [
        "## Exercise 2:  Computing the Approximation Error\n",
        "\n",
        "We now verify the approximation errors.  For each `k`:\n",
        "\n",
        "*  Compute `Z`, the PC coefficients of `X` \n",
        "*  Compute `Xhat`, the PC approximation of `X` using `k` PC coefficients\n",
        "*  Compute the approximation error, `err[k]` the average error `1/ns sum_{ij} (X[i,j]-Xhat[i,j])**2)`\n",
        "*  Compute the expected approximation error, `err_pred[k]` the expected approximation error based on the eigenvalues `lam`.\n",
        "\n",
        "Remember you will need to sort the eigenvalues in descending order.  You can use the command\n",
        "\n",
        "     I = np.argsort(lam)[::-1]"
      ]
    },
    {
      "cell_type": "code",
      "metadata": {
        "id": "FBgFxKvpqoZm",
        "colab": {
          "base_uri": "https://localhost:8080/"
        },
        "outputId": "734d384f-fa45-4d18-e486-49d48d61a8bd"
      },
      "source": [
        "# Sort the eigenvalues in descending order\n",
        "I = np.argsort(lam)[::-1]\n",
        "\n",
        "# TODO\n",
        "#   err = ...\n",
        "#   err_pred = ...\n",
        "\n",
        "Z = Xm.dot(V)\n",
        "err = np.zeros(d+1)\n",
        "err_pred = np.zeros(d+1)\n",
        "\n",
        "\n",
        "for k in range(d+1):\n",
        "    \n",
        "    Xhat = np.tile(xm,(ns,1))\n",
        "    err_pred[k] = np.sum(lam)\n",
        "    \n",
        "    if k > 0:\n",
        "        Xhat += Z[:,I[:k]].dot((V[:,I[:k]]).T)\n",
        "        err_pred[k] -= np.sum(lam[I[:k]])\n",
        "        print(err_pred[k])\n",
        "        \n",
        "    err[k] = np.mean(np.sum((X-Xhat)**2,axis=1))\n",
        "     "
      ],
      "execution_count": null,
      "outputs": [
        {
          "output_type": "stream",
          "text": [
            "0.03755177508571306\n",
            "0.0\n"
          ],
          "name": "stdout"
        }
      ]
    },
    {
      "cell_type": "code",
      "metadata": {
        "id": "MS5xBPM6qoZm",
        "colab": {
          "base_uri": "https://localhost:8080/"
        },
        "outputId": "6251af44-2fd7-4c84-a2f0-17af82a6c5fd"
      },
      "source": [
        "print(err)\n",
        "\n",
        "print(err_pred)"
      ],
      "execution_count": null,
      "outputs": [
        {
          "output_type": "stream",
          "text": [
            "[1.25928148e+00 3.75517751e-02 1.84331827e-32]\n",
            "[1.25928148 0.03755178 0.        ]\n"
          ],
          "name": "stdout"
        }
      ]
    },
    {
      "cell_type": "code",
      "metadata": {
        "colab": {
          "base_uri": "https://localhost:8080/"
        },
        "id": "Cp-GvqRMmO5k",
        "outputId": "877714f5-6e1f-48e9-bf46-956d7cd61110"
      },
      "source": [
        "print(Xhat)"
      ],
      "execution_count": null,
      "outputs": [
        {
          "output_type": "stream",
          "text": [
            "[[ 1.98926616e+00  1.18781317e+00]\n",
            " [-5.58931229e-02 -2.54799731e-01]\n",
            " [ 2.08398376e+00  1.06624390e+00]\n",
            " [-8.97039132e-02  2.87299894e-01]\n",
            " [ 1.89868141e+00  1.11463162e+00]\n",
            " [-1.87576271e-01  7.32673523e-02]\n",
            " [ 1.79597985e-01 -2.77024503e-02]\n",
            " [ 1.94801275e+00  7.50671219e-01]\n",
            " [-1.32898273e-01  8.31032262e-02]\n",
            " [ 6.96903901e-03  1.97310139e-01]\n",
            " [ 1.73068483e+00  9.17479284e-01]\n",
            " [-2.08079318e-02 -4.27430466e-02]\n",
            " [ 2.45272403e-01 -4.70288328e-01]\n",
            " [ 2.12500174e+00  8.02202733e-01]\n",
            " [ 2.82225764e-01 -1.53038352e-03]\n",
            " [ 1.89043142e+00  1.08435124e+00]\n",
            " [ 2.28978928e+00  1.20744683e+00]\n",
            " [-1.42726167e-01 -4.46319403e-01]\n",
            " [ 1.73743480e+00  8.18701967e-01]\n",
            " [ 1.84699625e+00  6.89604490e-01]\n",
            " [ 2.24554826e+00  1.15481251e+00]\n",
            " [ 1.62250581e+00  8.05723682e-01]\n",
            " [ 1.81316325e+00  7.78661012e-01]\n",
            " [-3.42248437e-01  9.77206905e-02]\n",
            " [ 4.02342399e-02  1.00405540e-02]\n",
            " [ 9.09773049e-03 -2.93190218e-01]\n",
            " [-1.96714584e-01  6.33642520e-02]\n",
            " [-8.96174169e-02  2.51729414e-02]\n",
            " [ 2.09307194e+00  1.20990505e+00]\n",
            " [ 2.16660448e+00  9.34876756e-01]\n",
            " [ 1.76539855e+00  7.77088807e-01]\n",
            " [ 2.04389792e+00  1.03099360e+00]\n",
            " [ 1.77690549e+00  1.05107777e+00]\n",
            " [-7.28895289e-03 -3.27645233e-02]\n",
            " [ 1.74851698e+00  5.03523434e-01]\n",
            " [-1.49240015e-01 -1.03361873e-01]\n",
            " [ 1.72231954e+00  1.22993474e+00]\n",
            " [ 2.33464974e-01 -4.77128540e-03]\n",
            " [ 1.92759158e-02  1.83195059e-01]\n",
            " [ 2.18484372e+00  1.05941097e+00]\n",
            " [ 2.03445089e+00  9.04187074e-01]\n",
            " [ 1.90917798e+00  6.61707502e-01]\n",
            " [ 1.80960564e+00  1.15407922e+00]\n",
            " [ 1.50651808e+00  1.20285077e+00]\n",
            " [ 2.28409762e+00  6.25542801e-01]\n",
            " [ 1.98088239e-01 -1.48106771e-01]\n",
            " [ 1.85613362e+00  1.20456202e+00]\n",
            " [ 8.36718849e-02 -1.28386880e-01]\n",
            " [ 2.71060798e-02  3.31227123e-02]\n",
            " [-2.10012832e-01  2.24362115e-01]\n",
            " [-1.08370898e-01 -1.56910166e-01]\n",
            " [ 1.87848106e+00  1.32602353e+00]\n",
            " [ 1.59608032e+00  6.55131813e-01]\n",
            " [ 1.82217260e-01  1.41324725e-01]\n",
            " [ 1.92863727e+00  8.90778097e-01]\n",
            " [-3.37658554e-01 -6.35274799e-02]\n",
            " [ 2.17872462e+00  7.50383820e-01]\n",
            " [ 2.11433402e+00  5.64056924e-01]\n",
            " [ 1.77364067e-01  4.52834916e-03]\n",
            " [ 2.23722988e+00  1.48640512e+00]\n",
            " [ 2.29267771e+00  8.75273260e-01]\n",
            " [-9.61185641e-02  1.05673909e-01]\n",
            " [ 1.98422902e+00  8.10994186e-01]\n",
            " [ 1.43819155e-01  1.47228780e-01]\n",
            " [ 3.54146583e-01 -1.88693358e-01]\n",
            " [ 2.29246711e+00  9.89316245e-01]\n",
            " [ 6.54123119e-02  3.38793635e-01]\n",
            " [ 1.89641694e+00  8.85561304e-01]\n",
            " [ 5.66339434e-02 -1.99415460e-01]\n",
            " [ 1.59200583e+00  9.88839024e-01]\n",
            " [-1.25347737e-01 -5.86942401e-02]\n",
            " [ 2.55609891e+00  1.01572438e+00]\n",
            " [ 1.76076619e+00  1.14168281e+00]\n",
            " [ 2.22564809e+00  8.79453442e-01]\n",
            " [ 1.36939461e-01  8.62978503e-02]\n",
            " [ 6.70025859e-02 -1.50633093e-02]\n",
            " [ 1.48474439e-01  1.64708998e-01]\n",
            " [ 2.07100504e+00  1.16825886e+00]\n",
            " [ 1.98757217e+00  8.75146435e-01]\n",
            " [ 2.18263450e+00  1.13329153e+00]\n",
            " [ 3.83372960e-02 -3.39300794e-01]\n",
            " [ 2.29860376e+00  8.77819255e-01]\n",
            " [ 4.50367000e-01  2.54448761e-02]\n",
            " [ 2.25735519e+00  1.12417352e+00]\n",
            " [ 1.74902587e+00  1.11717834e+00]\n",
            " [ 6.00575219e-02  3.08471284e-01]\n",
            " [ 3.99557388e-01  1.77976564e-02]\n",
            " [ 1.76387623e+00  9.28751875e-01]\n",
            " [ 5.81552952e-02  3.46206289e-01]\n",
            " [-6.29079293e-02  3.02739296e-01]\n",
            " [ 1.94888816e+00  8.63008770e-01]\n",
            " [-1.48581471e-01 -1.92738679e-01]\n",
            " [ 3.42741784e-03 -4.45807442e-02]\n",
            " [ 2.16921216e+00  9.39631862e-01]\n",
            " [ 6.07351352e-03  4.37424195e-02]\n",
            " [-2.99662954e-01 -1.62126975e-01]\n",
            " [ 2.17822924e-01  3.31427591e-01]\n",
            " [ 3.09463614e-01  7.85187336e-02]\n",
            " [ 5.60855590e-02  9.84822139e-02]\n",
            " [ 1.92375786e+00  8.32635387e-01]]\n"
          ],
          "name": "stdout"
        }
      ]
    },
    {
      "cell_type": "markdown",
      "metadata": {
        "id": "81kxaVqOqoZn"
      },
      "source": [
        "## Exercise 3:  Computing the PCA via the SVD\n",
        "\n",
        "*  Compute the matrix `A = 1/np.sqrt(ns)*Xm`\n",
        "*  Compute the economy SVD of `A` with the `np.linalg.svd()` command.  Use `full_matrices=False` option.  Print the dimensions of the components of the SVD"
      ]
    },
    {
      "cell_type": "code",
      "metadata": {
        "id": "52SlqQP4qoZn"
      },
      "source": [
        "# TODO\n",
        "#   A = ...\n",
        "#   U, s, Vtr = np.linalg.svd(...)\n",
        "A = 1/np.sqrt(ns)*Xm\n",
        "U, s, Vtr = np.linalg.svd(A, full_matrices=False)"
      ],
      "execution_count": null,
      "outputs": []
    },
    {
      "cell_type": "markdown",
      "metadata": {
        "id": "92MtqH9WqoZn"
      },
      "source": [
        "Verify that the singular values squared `s**2` match the eigenvalues of the covariance matrix `Q`. "
      ]
    },
    {
      "cell_type": "code",
      "metadata": {
        "id": "XR6pXp9iqoZn",
        "colab": {
          "base_uri": "https://localhost:8080/"
        },
        "outputId": "da51894f-dba6-42ad-d3ab-de3c3d611951"
      },
      "source": [
        "# TODO\n",
        "print(s**2)\n",
        "print(lam)"
      ],
      "execution_count": null,
      "outputs": [
        {
          "output_type": "stream",
          "text": [
            "[1.22172971 0.03755178]\n",
            "[0.03755178 1.22172971]\n"
          ],
          "name": "stdout"
        }
      ]
    },
    {
      "cell_type": "markdown",
      "metadata": {
        "id": "zCjUwwLHqoZn"
      },
      "source": [
        "Compute the coefficients, `Zhat` of `X` on the PC vectors.  Make sure they match `Z` computed above (up to some sign and permutations)."
      ]
    },
    {
      "cell_type": "code",
      "metadata": {
        "id": "ACCLQz8GqoZn"
      },
      "source": [
        "# TODO\n",
        "Zhat = np.sqrt(ns)*U*s[None,:]"
      ],
      "execution_count": null,
      "outputs": []
    },
    {
      "cell_type": "code",
      "metadata": {
        "id": "0IUhL3ipqoZn",
        "colab": {
          "base_uri": "https://localhost:8080/"
        },
        "outputId": "388d3503-84d0-4048-83ec-8014d2d01592"
      },
      "source": [
        "print(Zhat[:3,:])\n",
        "print(Z[:3,I])"
      ],
      "execution_count": null,
      "outputs": [
        {
          "output_type": "stream",
          "text": [
            "[[-1.17094621  0.19883101]\n",
            " [ 1.2999931  -0.19899736]\n",
            " [-1.20264836  0.04801495]]\n",
            "[[-1.17094621 -0.19883101]\n",
            " [ 1.2999931   0.19899736]\n",
            " [-1.20264836 -0.04801495]]\n"
          ],
          "name": "stdout"
        }
      ]
    },
    {
      "cell_type": "code",
      "metadata": {
        "id": "Z-18xPKbqoZn"
      },
      "source": [
        ""
      ],
      "execution_count": null,
      "outputs": []
    }
  ]
}